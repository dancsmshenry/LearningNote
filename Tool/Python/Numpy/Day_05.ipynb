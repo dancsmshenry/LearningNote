{
 "cells": [
  {
   "cell_type": "markdown",
   "metadata": {},
   "source": [
    "## 10、数组的排序\n",
    "3个方法都支持一个参数kind，可以是以下一个值：\n",
    "\n",
    "- quicksort：快速排序，平均O(nlogn)，不稳定情况\n",
    "- mergesort：归并排序，平均O(nlogn)，稳定排序\n",
    "- heapsort：堆排序，平均O(nlogn)，不稳定排序\n",
    "- stable：稳定排序\n",
    "- kind默认值是quicksort，快速排序平均情况是最快，保持默认即可\n",
    "\n",
    "numpy的排序速度比原生python的排序要快"
   ]
  },
  {
   "cell_type": "code",
   "execution_count": 4,
   "metadata": {},
   "outputs": [],
   "source": [
    "import numpy as np"
   ]
  },
  {
   "cell_type": "code",
   "execution_count": 13,
   "metadata": {},
   "outputs": [],
   "source": [
    "a1 = np.random.randint(10, 100, size = (10))"
   ]
  },
  {
   "cell_type": "code",
   "execution_count": 14,
   "metadata": {},
   "outputs": [
    {
     "data": {
      "text/plain": [
       "array([85, 51, 52, 70, 47, 87, 25, 13, 67, 73])"
      ]
     },
     "execution_count": 14,
     "metadata": {},
     "output_type": "execute_result"
    }
   ],
   "source": [
    "a1"
   ]
  },
  {
   "cell_type": "code",
   "execution_count": 15,
   "metadata": {},
   "outputs": [
    {
     "data": {
      "text/plain": [
       "array([13, 25, 47, 51, 52, 67, 70, 73, 85, 87])"
      ]
     },
     "execution_count": 15,
     "metadata": {},
     "output_type": "execute_result"
    }
   ],
   "source": [
    "#返回一个新的从小到大的数组\n",
    "np.sort(a1)"
   ]
  },
  {
   "cell_type": "code",
   "execution_count": 16,
   "metadata": {},
   "outputs": [
    {
     "data": {
      "text/plain": [
       "array([7, 6, 4, 1, 2, 8, 3, 9, 0, 5], dtype=int64)"
      ]
     },
     "execution_count": 16,
     "metadata": {},
     "output_type": "execute_result"
    }
   ],
   "source": [
    "#返回的是排序后的数组中的数字在排序好的数组中的（新）位置\n",
    "np.argsort(a1)"
   ]
  },
  {
   "cell_type": "code",
   "execution_count": 17,
   "metadata": {},
   "outputs": [
    {
     "data": {
      "text/plain": [
       "array([13, 25, 47, 51, 52, 67, 70, 73, 85, 87])"
      ]
     },
     "execution_count": 17,
     "metadata": {},
     "output_type": "execute_result"
    }
   ],
   "source": [
    "#结合条件索引和返回数组的位置，获取排序数组\n",
    "a1[np.argsort(a1)]"
   ]
  },
  {
   "cell_type": "code",
   "execution_count": 18,
   "metadata": {},
   "outputs": [],
   "source": [
    "#对数组进行原地排序\n",
    "a1.sort()"
   ]
  },
  {
   "cell_type": "markdown",
   "metadata": {},
   "source": [
    "## 11、数组的乘法\n",
    "\n",
    "numpy有以下乘法函数：\n",
    "\n",
    "- *符号或者np.multiply：逐元素乘法，对应位置的元素相乘，要求shape相同\n",
    "- @符号或者np.matmul：矩阵乘法，形状要求满足(n,k),(k,m)->(n,m)\n",
    "- np.dot：点积乘法"
   ]
  },
  {
   "cell_type": "code",
   "execution_count": 5,
   "metadata": {},
   "outputs": [],
   "source": [
    "#数字和一维数组相乘\n",
    "#这里可以换为其他的多维数组\n",
    "b1 = np.arange(12).reshape(3,4)"
   ]
  },
  {
   "cell_type": "code",
   "execution_count": 6,
   "metadata": {},
   "outputs": [
    {
     "data": {
      "text/plain": [
       "array([[ 0,  1,  2,  3],\n",
       "       [ 4,  5,  6,  7],\n",
       "       [ 8,  9, 10, 11]])"
      ]
     },
     "execution_count": 6,
     "metadata": {},
     "output_type": "execute_result"
    }
   ],
   "source": [
    "b1"
   ]
  },
  {
   "cell_type": "code",
   "execution_count": 8,
   "metadata": {},
   "outputs": [
    {
     "data": {
      "text/plain": [
       "array([[ 0,  2,  4,  6],\n",
       "       [ 8, 10, 12, 14],\n",
       "       [16, 18, 20, 22]])"
      ]
     },
     "execution_count": 8,
     "metadata": {},
     "output_type": "execute_result"
    }
   ],
   "source": [
    "b1 * 2"
   ]
  },
  {
   "cell_type": "code",
   "execution_count": 22,
   "metadata": {},
   "outputs": [],
   "source": [
    "#一维数组和一维数组相乘，需要长度相同，并且是注意元素相乘\n",
    "b2 = np.arange(10)\n",
    "b3 = np.random.randint(10, 20, size = (10))"
   ]
  },
  {
   "cell_type": "code",
   "execution_count": 23,
   "metadata": {},
   "outputs": [
    {
     "data": {
      "text/plain": [
       "array([0, 1, 2, 3, 4, 5, 6, 7, 8, 9])"
      ]
     },
     "execution_count": 23,
     "metadata": {},
     "output_type": "execute_result"
    }
   ],
   "source": [
    "b2"
   ]
  },
  {
   "cell_type": "code",
   "execution_count": 24,
   "metadata": {},
   "outputs": [
    {
     "data": {
      "text/plain": [
       "array([11, 19, 13, 13, 14, 11, 15, 14, 16, 17])"
      ]
     },
     "execution_count": 24,
     "metadata": {},
     "output_type": "execute_result"
    }
   ],
   "source": [
    "b3"
   ]
  },
  {
   "cell_type": "code",
   "execution_count": 25,
   "metadata": {},
   "outputs": [
    {
     "data": {
      "text/plain": [
       "array([  0,  19,  26,  39,  56,  55,  90,  98, 128, 153])"
      ]
     },
     "execution_count": 25,
     "metadata": {},
     "output_type": "execute_result"
    }
   ],
   "source": [
    "#与np.multiply(b2, b3)效果一样\n",
    "b2 * b3"
   ]
  },
  {
   "cell_type": "code",
   "execution_count": 32,
   "metadata": {},
   "outputs": [],
   "source": [
    "#二维数组乘一维数组，注意一维数组的个数要和二维数组的列相同,也是注意元素相乘\n",
    "b4 = np.random.randint(10, 20, size = (5))\n",
    "b5 = np.arange(10).reshape(2,5)"
   ]
  },
  {
   "cell_type": "code",
   "execution_count": 33,
   "metadata": {},
   "outputs": [
    {
     "data": {
      "text/plain": [
       "array([12, 11, 10, 16, 10])"
      ]
     },
     "execution_count": 33,
     "metadata": {},
     "output_type": "execute_result"
    }
   ],
   "source": [
    "b4"
   ]
  },
  {
   "cell_type": "code",
   "execution_count": 34,
   "metadata": {},
   "outputs": [
    {
     "data": {
      "text/plain": [
       "array([[0, 1, 2, 3, 4],\n",
       "       [5, 6, 7, 8, 9]])"
      ]
     },
     "execution_count": 34,
     "metadata": {},
     "output_type": "execute_result"
    }
   ],
   "source": [
    "b5"
   ]
  },
  {
   "cell_type": "code",
   "execution_count": 35,
   "metadata": {},
   "outputs": [
    {
     "data": {
      "text/plain": [
       "array([[  0,  11,  20,  48,  40],\n",
       "       [ 60,  66,  70, 128,  90]])"
      ]
     },
     "execution_count": 35,
     "metadata": {},
     "output_type": "execute_result"
    }
   ],
   "source": [
    "#np.multiply(b4, b5)\n",
    "#以上效果相同\n",
    "b4 * b5"
   ]
  },
  {
   "cell_type": "markdown",
   "metadata": {},
   "source": [
    "## 12、数组的点积与矩阵的乘法\n",
    "两个向量a = [a1, a2,…, an]和b = [b1, b2,…, bn]的点积定义为：\n",
    "a·b=a1b1+a2b2+……+anbn。"
   ]
  },
  {
   "cell_type": "code",
   "execution_count": 26,
   "metadata": {},
   "outputs": [],
   "source": [
    "#先创建两个数组\n",
    "#copy是复制一个和原来一模一样的数组\n",
    "c1 = np.arange(12)\n",
    "c2 = c1.copy()"
   ]
  },
  {
   "cell_type": "code",
   "execution_count": 27,
   "metadata": {},
   "outputs": [
    {
     "data": {
      "text/plain": [
       "506"
      ]
     },
     "execution_count": 27,
     "metadata": {},
     "output_type": "execute_result"
    }
   ],
   "source": [
    "#数组的点积\n",
    "#np.matmul(c1, c2)\n",
    "#np.dot(c1, c2)\n",
    "#np.sum(a1 * a2)\n",
    "#以上的效果都是等价的\n",
    "c1@c2"
   ]
  },
  {
   "cell_type": "code",
   "execution_count": 28,
   "metadata": {},
   "outputs": [],
   "source": [
    "#由点积可以推出矩阵的乘法\n",
    "d1 = np.random.randint(10, 20 ,size = (3, 4))\n",
    "d2 = np.random.randint(10, 20 ,size = (4, 3))"
   ]
  },
  {
   "cell_type": "code",
   "execution_count": 29,
   "metadata": {},
   "outputs": [
    {
     "data": {
      "text/plain": [
       "array([[16, 19, 14, 11],\n",
       "       [13, 17, 15, 19],\n",
       "       [19, 17, 15, 14]])"
      ]
     },
     "execution_count": 29,
     "metadata": {},
     "output_type": "execute_result"
    }
   ],
   "source": [
    "d1"
   ]
  },
  {
   "cell_type": "code",
   "execution_count": 30,
   "metadata": {},
   "outputs": [
    {
     "data": {
      "text/plain": [
       "array([[10, 18, 12],\n",
       "       [19, 17, 18],\n",
       "       [13, 18, 17],\n",
       "       [17, 15, 18]])"
      ]
     },
     "execution_count": 30,
     "metadata": {},
     "output_type": "execute_result"
    }
   ],
   "source": [
    "d2"
   ]
  },
  {
   "cell_type": "code",
   "execution_count": 31,
   "metadata": {},
   "outputs": [
    {
     "data": {
      "text/plain": [
       "array([[ 890, 1028,  970],\n",
       "       [ 971, 1078, 1059],\n",
       "       [ 946, 1111, 1041]])"
      ]
     },
     "execution_count": 31,
     "metadata": {},
     "output_type": "execute_result"
    }
   ],
   "source": [
    "#计算矩阵的乘法\n",
    "#np.matmul(d1, d2)\n",
    "#np.dot(d1, d2)\n",
    "#以上的效果都相同\n",
    "d1@d2"
   ]
  },
  {
   "cell_type": "markdown",
   "metadata": {},
   "source": [
    "## 13、广播的概念\n",
    "如果两个数组的维度数dim不相同，那么小维度数组的形状将会在 左边 补1\n",
    "\n",
    "如果shape的维度不匹配，但是有维度是1，那么可以扩展维度是1的维度匹配另一个数组；\n",
    "\n",
    "如果shape的维度不匹配，但是没有任何一个维度是1，则匹配失败引发错误；\n",
    "\n",
    "适用于数组之间的加减乘除\n",
    "\n",
    "即只要有相同的维度上有相同的数，便可以广播拓展运算"
   ]
  },
  {
   "cell_type": "code",
   "execution_count": 36,
   "metadata": {},
   "outputs": [],
   "source": [
    "#先创建两个数组\n",
    "f1 = np.random.randint(10, 20, size = (3,4))\n",
    "f2 = np.arange(4)"
   ]
  },
  {
   "cell_type": "code",
   "execution_count": 38,
   "metadata": {},
   "outputs": [
    {
     "data": {
      "text/plain": [
       "array([[17, 10, 13, 16],\n",
       "       [12, 17, 12, 13],\n",
       "       [18, 17, 14, 19]])"
      ]
     },
     "execution_count": 38,
     "metadata": {},
     "output_type": "execute_result"
    }
   ],
   "source": [
    "f1"
   ]
  },
  {
   "cell_type": "code",
   "execution_count": 39,
   "metadata": {},
   "outputs": [
    {
     "data": {
      "text/plain": [
       "array([0, 1, 2, 3])"
      ]
     },
     "execution_count": 39,
     "metadata": {},
     "output_type": "execute_result"
    }
   ],
   "source": [
    "f2"
   ]
  },
  {
   "cell_type": "code",
   "execution_count": 37,
   "metadata": {},
   "outputs": [
    {
     "data": {
      "text/plain": [
       "array([[17, 11, 15, 19],\n",
       "       [12, 18, 14, 16],\n",
       "       [18, 18, 16, 22]])"
      ]
     },
     "execution_count": 37,
     "metadata": {},
     "output_type": "execute_result"
    }
   ],
   "source": [
    "#分析：f2是一个一维数组有四个位置，首先在其左边添加一个维度，变为（1，4）然后把为1的位置拓展至另外一个数组匹配，即变为（3，4），便可以相加了\n",
    "f1 + f2"
   ]
  },
  {
   "cell_type": "code",
   "execution_count": 40,
   "metadata": {},
   "outputs": [],
   "source": [
    "#再创建两个数组\n",
    "g1 = np.arange(3).reshape((3,1))\n",
    "g2 = np.arange(3)"
   ]
  },
  {
   "cell_type": "code",
   "execution_count": 41,
   "metadata": {},
   "outputs": [
    {
     "data": {
      "text/plain": [
       "array([[0],\n",
       "       [1],\n",
       "       [2]])"
      ]
     },
     "execution_count": 41,
     "metadata": {},
     "output_type": "execute_result"
    }
   ],
   "source": [
    "g1"
   ]
  },
  {
   "cell_type": "code",
   "execution_count": 42,
   "metadata": {},
   "outputs": [
    {
     "data": {
      "text/plain": [
       "array([0, 1, 2])"
      ]
     },
     "execution_count": 42,
     "metadata": {},
     "output_type": "execute_result"
    }
   ],
   "source": [
    "g2"
   ]
  },
  {
   "cell_type": "code",
   "execution_count": 43,
   "metadata": {},
   "outputs": [
    {
     "data": {
      "text/plain": [
       "array([[0, 1, 2],\n",
       "       [1, 2, 3],\n",
       "       [2, 3, 4]])"
      ]
     },
     "execution_count": 43,
     "metadata": {},
     "output_type": "execute_result"
    }
   ],
   "source": [
    "#分析：分析：根据规则1，g2.shape会变成(1, 3)\n",
    "#根据规则2，g2.shape再变成(3, 3)，相当于在行上复制\n",
    "#根据规则2，g1.shape再变成(3, 3)，相当于在列上复制\n",
    "g1 + g2"
   ]
  }
 ],
 "metadata": {
  "kernelspec": {
   "display_name": "Python 3",
   "language": "python",
   "name": "python3"
  },
  "language_info": {
   "codemirror_mode": {
    "name": "ipython",
    "version": 3
   },
   "file_extension": ".py",
   "mimetype": "text/x-python",
   "name": "python",
   "nbconvert_exporter": "python",
   "pygments_lexer": "ipython3",
   "version": "3.8.5"
  }
 },
 "nbformat": 4,
 "nbformat_minor": 4
}
