{
 "cells": [
  {
   "cell_type": "markdown",
   "metadata": {},
   "source": [
    "## 14、求解线性方程组"
   ]
  },
  {
   "cell_type": "code",
   "execution_count": 1,
   "metadata": {},
   "outputs": [],
   "source": [
    "import numpy as np"
   ]
  },
  {
   "cell_type": "code",
   "execution_count": 3,
   "metadata": {},
   "outputs": [
    {
     "data": {
      "text/plain": [
       "array([[ 1, -2,  1],\n",
       "       [ 0,  2, -8],\n",
       "       [-4,  5,  9]])"
      ]
     },
     "execution_count": 3,
     "metadata": {},
     "output_type": "execute_result"
    }
   ],
   "source": [
    "#先填写方程的系数矩阵\n",
    "a1 = np.array(\n",
    "    [\n",
    "        [1, -2, 1],\n",
    "        [0, 2, -8],\n",
    "        [-4, 5, 9]\n",
    "    ]\n",
    ")\n",
    "a1"
   ]
  },
  {
   "cell_type": "code",
   "execution_count": 4,
   "metadata": {},
   "outputs": [
    {
     "data": {
      "text/plain": [
       "array([ 0,  8, -9])"
      ]
     },
     "execution_count": 4,
     "metadata": {},
     "output_type": "execute_result"
    }
   ],
   "source": [
    "#再写方程右边的和\n",
    "a2 = np.array([0, 8, -9])\n",
    "a2"
   ]
  },
  {
   "cell_type": "code",
   "execution_count": 5,
   "metadata": {},
   "outputs": [
    {
     "data": {
      "text/plain": [
       "array([29., 16.,  3.])"
      ]
     },
     "execution_count": 5,
     "metadata": {},
     "output_type": "execute_result"
    }
   ],
   "source": [
    "# 调用solve方法直接求解，得到的是xyz的值\n",
    "A = np.linalg.solve(a1, a2)\n",
    "A"
   ]
  },
  {
   "cell_type": "code",
   "execution_count": 6,
   "metadata": {},
   "outputs": [
    {
     "data": {
      "text/plain": [
       "0.0"
      ]
     },
     "execution_count": 6,
     "metadata": {},
     "output_type": "execute_result"
    }
   ],
   "source": [
    "#方程的验证\n",
    "a1[0].dot(A)"
   ]
  },
  {
   "cell_type": "code",
   "execution_count": 8,
   "metadata": {},
   "outputs": [
    {
     "data": {
      "text/plain": [
       "array([ True,  True,  True])"
      ]
     },
     "execution_count": 8,
     "metadata": {},
     "output_type": "execute_result"
    }
   ],
   "source": [
    "#显示全部都为真，即解是正确的\n",
    "a1.dot(A) == a2"
   ]
  },
  {
   "cell_type": "code",
   "execution_count": 37,
   "metadata": {},
   "outputs": [
    {
     "data": {
      "text/plain": [
       "array([[ 1,  1,  1],\n",
       "       [ 0,  2,  5],\n",
       "       [ 2,  5, -1]])"
      ]
     },
     "execution_count": 37,
     "metadata": {},
     "output_type": "execute_result"
    }
   ],
   "source": [
    "#线性方程组也可以用逆矩阵的方法求解\n",
    "#先创建系数矩阵\n",
    "a2 = np.array([\n",
    "    [1,1,1],\n",
    "    [0,2,5],\n",
    "    [2,5,-1]\n",
    "])\n",
    "a2"
   ]
  },
  {
   "cell_type": "code",
   "execution_count": 39,
   "metadata": {},
   "outputs": [],
   "source": [
    "#再创建方程右边的和\n",
    "a4 = np.array([6, -4, 27])"
   ]
  },
  {
   "cell_type": "code",
   "execution_count": 40,
   "metadata": {},
   "outputs": [
    {
     "data": {
      "text/plain": [
       "array([[ 1.28571429, -0.28571429, -0.14285714],\n",
       "       [-0.47619048,  0.14285714,  0.23809524],\n",
       "       [ 0.19047619,  0.14285714, -0.0952381 ]])"
      ]
     },
     "execution_count": 40,
     "metadata": {},
     "output_type": "execute_result"
    }
   ],
   "source": [
    "# 求解a2方程的逆矩阵\n",
    "a3 = np.linalg.inv(a2)\n",
    "a3"
   ]
  },
  {
   "cell_type": "code",
   "execution_count": 41,
   "metadata": {},
   "outputs": [
    {
     "data": {
      "text/plain": [
       "array([ 5.,  3., -2.])"
      ]
     },
     "execution_count": 41,
     "metadata": {},
     "output_type": "execute_result"
    }
   ],
   "source": [
    "#逆矩阵乘以和的方程的解\n",
    "a3@a4"
   ]
  },
  {
   "cell_type": "markdown",
   "metadata": {},
   "source": [
    "## 15、numpy实现多项式曲线拟合"
   ]
  },
  {
   "cell_type": "code",
   "execution_count": 9,
   "metadata": {},
   "outputs": [],
   "source": [
    "import numpy as np\n",
    "import matplotlib.pyplot as plt"
   ]
  },
  {
   "cell_type": "code",
   "execution_count": 11,
   "metadata": {},
   "outputs": [],
   "source": [
    "#先创建数据\n",
    "# b1是一个数组，在-5~5，等间距生成的50个点\n",
    "b1 = np.linspace(-5, 5, 50)"
   ]
  },
  {
   "cell_type": "code",
   "execution_count": 12,
   "metadata": {},
   "outputs": [],
   "source": [
    "# 假造b2，为sin(b1)，同时加上一些噪声，模拟真实世界的数据\n",
    "b2 = np.sin(b1) + np.random.rand(50)"
   ]
  },
  {
   "cell_type": "code",
   "execution_count": 15,
   "metadata": {},
   "outputs": [
    {
     "data": {
      "text/plain": [
       "((50,), (50,))"
      ]
     },
     "execution_count": 15,
     "metadata": {},
     "output_type": "execute_result"
    }
   ],
   "source": [
    "b1.shape,b2.shape"
   ]
  },
  {
   "cell_type": "code",
   "execution_count": 16,
   "metadata": {},
   "outputs": [
    {
     "data": {
      "text/plain": [
       "<matplotlib.collections.PathCollection at 0x191dd756dc0>"
      ]
     },
     "execution_count": 16,
     "metadata": {},
     "output_type": "execute_result"
    },
    {
     "data": {
      "image/png": "[encoded data removed]",
      "text/plain": [
       "<Figure size 432x288 with 1 Axes>"
      ]
     },
     "metadata": {
      "needs_background": "light"
     },
     "output_type": "display_data"
    }
   ],
   "source": [
    "#先绘制图表\n",
    "plt.scatter(b1, b2)"
   ]
  },
  {
   "cell_type": "code",
   "execution_count": 33,
   "metadata": {},
   "outputs": [
    {
     "data": {
      "text/plain": [
       "array([ 4.90830045e-14,  3.11826668e-14, -8.44633539e-12, -5.14573002e-12,\n",
       "        6.46976277e-10,  3.85340457e-10, -2.90553377e-08, -1.73236243e-08,\n",
       "        8.47629779e-07,  5.20065369e-07, -1.67974323e-05, -1.09428959e-05,\n",
       "        2.29185437e-04,  1.64445625e-04, -2.12460893e-03, -1.76379522e-03,\n",
       "        1.26845457e-02,  1.32966522e-02, -4.10689330e-02, -6.86471887e-02,\n",
       "        9.31665237e-03,  2.36321494e-01,  4.57590913e-01, -5.43065542e-01,\n",
       "       -1.63248448e+00,  8.85336162e-01,  2.28401007e+00, -1.09442733e+00,\n",
       "       -1.20612026e+00,  1.31192481e+00,  5.71629496e-01])"
      ]
     },
     "execution_count": 33,
     "metadata": {},
     "output_type": "execute_result"
    }
   ],
   "source": [
    "# 使用n次方多项式做拟合，第一个系数是自变量，第二个系数是因变量，第三个系数是所求式子的最大次方数\n",
    "#所求得的是每一项的系数，从最高项到最小项\n",
    "params = np.polyfit(b1, b2, 30)\n",
    "params"
   ]
  },
  {
   "cell_type": "code",
   "execution_count": 34,
   "metadata": {},
   "outputs": [
    {
     "data": {
      "text/plain": [
       "poly1d([ 4.90830045e-14,  3.11826668e-14, -8.44633539e-12, -5.14573002e-12,\n",
       "        6.46976277e-10,  3.85340457e-10, -2.90553377e-08, -1.73236243e-08,\n",
       "        8.47629779e-07,  5.20065369e-07, -1.67974323e-05, -1.09428959e-05,\n",
       "        2.29185437e-04,  1.64445625e-04, -2.12460893e-03, -1.76379522e-03,\n",
       "        1.26845457e-02,  1.32966522e-02, -4.10689330e-02, -6.86471887e-02,\n",
       "        9.31665237e-03,  2.36321494e-01,  4.57590913e-01, -5.43065542e-01,\n",
       "       -1.63248448e+00,  8.85336162e-01,  2.28401007e+00, -1.09442733e+00,\n",
       "       -1.20612026e+00,  1.31192481e+00,  5.71629496e-01])"
      ]
     },
     "execution_count": 34,
     "metadata": {},
     "output_type": "execute_result"
    }
   ],
   "source": [
    "#np.poly1d(params)这里是POLY1D，d前面是1（一）\n",
    "#作用：得到多项式系数，按照阶数从高到低排列\n",
    "param_func = np.poly1d(params)\n",
    "param_func"
   ]
  },
  {
   "cell_type": "code",
   "execution_count": 35,
   "metadata": {},
   "outputs": [],
   "source": [
    "b2_predict = param_func(b1)"
   ]
  },
  {
   "cell_type": "code",
   "execution_count": 36,
   "metadata": {},
   "outputs": [
    {
     "data": {
      "text/plain": [
       "[<matplotlib.lines.Line2D at 0x191ddc6d610>]"
      ]
     },
     "execution_count": 36,
     "metadata": {},
     "output_type": "execute_result"
    },
    {
     "data": {
      "image/png": "[encoded data removed]",
      "text/plain": [
       "<Figure size 432x288 with 1 Axes>"
      ]
     },
     "metadata": {
      "needs_background": "light"
     },
     "output_type": "display_data"
    }
   ],
   "source": [
    "plt.scatter(b1, b2)\n",
    "plt.plot(b1, b2_predict)"
   ]
  },
  {
   "cell_type": "code",
   "execution_count": null,
   "metadata": {},
   "outputs": [],
   "source": []
  }
 ],
 "metadata": {
  "kernelspec": {
   "display_name": "Python 3",
   "language": "python",
   "name": "python3"
  },
  "language_info": {
   "codemirror_mode": {
    "name": "ipython",
    "version": 3
   },
   "file_extension": ".py",
   "mimetype": "text/x-python",
   "name": "python",
   "nbconvert_exporter": "python",
   "pygments_lexer": "ipython3",
   "version": "3.8.5"
  }
 },
 "nbformat": 4,
 "nbformat_minor": 4
}
